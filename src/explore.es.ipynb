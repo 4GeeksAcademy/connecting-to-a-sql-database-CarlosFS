{
 "cells": [
  {
   "cell_type": "markdown",
   "metadata": {},
   "source": [
    "# Explora aquí\n",
    "\n",
    "Se recomienda utilizar este cuaderno con fines de exploración.\n",
    "\n",
    "Por ejemplo:\n",
    "\n",
    "1. Puede importar el CSV generado por Python a su computadora portátil y explorarlo.\n",
    "2. Puede conectarse a su base de datos usando `pandas.read_sql` desde este cuaderno y explorarla."
   ]
  },
  {
   "cell_type": "code",
   "execution_count": 2,
   "metadata": {},
   "outputs": [
    {
     "name": "stdout",
     "output_type": "stream",
     "text": [
      "        book_id  total_pages     rating  publisher_id\n",
      "count  10.00000    10.000000  10.000000     10.000000\n",
      "mean    5.50000   300.100000   3.966000      4.600000\n",
      "std     3.02765   174.566415   0.289643      2.319004\n",
      "min     1.00000    24.000000   3.540000      1.000000\n",
      "25%     3.25000   226.500000   3.765000      3.250000\n",
      "50%     5.50000   262.500000   3.910000      5.000000\n",
      "75%     7.75000   434.000000   4.170000      6.750000\n",
      "max    10.00000   595.000000   4.430000      7.000000\n"
     ]
    },
    {
     "name": "stderr",
     "output_type": "stream",
     "text": [
      "/tmp/ipykernel_19601/164681928.py:16: UserWarning: pandas only supports SQLAlchemy connectable (engine/connection) or database string URI or sqlite3 DBAPI2 connection. Other DBAPI2 objects are not tested. Please consider using SQLAlchemy.\n",
      "  df = pd.read_sql_query(\"SELECT * FROM books;\", con=raw_conn)\n"
     ]
    }
   ],
   "source": [
    "from dotenv import load_dotenv\n",
    "from sqlalchemy import create_engine\n",
    "import os\n",
    "import pandas as pd\n",
    "\n",
    "load_dotenv()\n",
    "\n",
    "connection_string = (\n",
    "    f\"postgresql://{os.getenv('DB_USER')}:\"\n",
    "    f\"{os.getenv('DB_PASSWORD')}@\"\n",
    "    f\"{os.getenv('DB_HOST')}:{os.getenv('DB_PORT')}/\"\n",
    "    f\"{os.getenv('DB_NAME')}\"\n",
    ")\n",
    "engine = create_engine(connection_string, execution_options={\"autocommit\": True})\n",
    "raw_conn = engine.raw_connection()          # -> Psycopg2 connection\n",
    "df = pd.read_sql_query(\"SELECT * FROM books;\", con=raw_conn)\n",
    "print(df.describe())\n",
    "raw_conn.close()"
   ]
  }
 ],
 "metadata": {
  "kernelspec": {
   "display_name": "Python 3",
   "language": "python",
   "name": "python3"
  },
  "language_info": {
   "codemirror_mode": {
    "name": "ipython",
    "version": 3
   },
   "file_extension": ".py",
   "mimetype": "text/x-python",
   "name": "python",
   "nbconvert_exporter": "python",
   "pygments_lexer": "ipython3",
   "version": "3.12.10"
  },
  "orig_nbformat": 4
 },
 "nbformat": 4,
 "nbformat_minor": 2
}
